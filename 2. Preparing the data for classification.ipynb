{
 "cells": [
  {
   "cell_type": "markdown",
   "metadata": {
    "collapsed": true
   },
   "source": [
    "To make the classifier as accurate as possible it is neccesery to train it with at much data as possible.\n",
    "Unfortunately classifying all the files on an smb share is too much effort.\n",
    "\n",
    "In this chapter we will classify a certain part of the dataset which will be used to learn from the rest of the data available.\n"
   ]
  },
  {
   "cell_type": "code",
   "execution_count": null,
   "metadata": {
    "collapsed": true
   },
   "outputs": [],
   "source": [
    "import pandas as pd"
   ]
  },
  {
   "cell_type": "markdown",
   "metadata": {},
   "source": [
    "First lets import the file created in the previous chapter.\n",
    "This dataframe will be altered to a new format which will be used in the process of writing the classifier."
   ]
  },
  {
   "cell_type": "code",
   "execution_count": null,
   "metadata": {
    "collapsed": false
   },
   "outputs": [],
   "source": [
    "df = pd.read_pickle(\"data/bro_logs_filtered.pkl\")\n",
    "\n",
    "files_df = pd.Series(df[\"name\"].unique())\n",
    "\n",
    "files_df = files_df[files_df.str[-5:].str.contains(\"\\.\")]\n",
    "\n",
    "files_df = files_df.to_frame(\"name\")\n",
    "\n",
    "\n",
    "\n",
    "files_df[\"label\"] = None\n",
    "\n",
    "print files_df.shape"
   ]
  },
  {
   "cell_type": "markdown",
   "metadata": {},
   "source": [
    "Since not all companies are equal, their labels differ as well.\n",
    "Having more labels will give a more accurate fingerprint on user behavior but having not enough information about a label for the classifier will result in no classification at all.\n",
    "\n",
    "Try to use labels which are generic enough to classify but specific enough to see changes in behavior such as public, customer info and internal."
   ]
  },
  {
   "cell_type": "code",
   "execution_count": null,
   "metadata": {
    "collapsed": true
   },
   "outputs": [],
   "source": [
    "files_df.to_csv(\"data/custom_files_labels.csv\")"
   ]
  },
  {
   "cell_type": "markdown",
   "metadata": {},
   "source": [
    "Now that we have part of the files labeled we can continue with semi supervised learning"
   ]
  },
  {
   "cell_type": "code",
   "execution_count": null,
   "metadata": {
    "collapsed": false
   },
   "outputs": [],
   "source": [
    "files_df_labeled = pd.read_csv(\"data/custom_files_labels_done.csv\", na_values=[])\n",
    "\n",
    "files_df_labeled[\"label\"].fillna('', inplace=True)\n",
    "\n",
    "            \n",
    "print(\"{} out of {} Files labeled in dataset\").format(len(files_df_labeled[files_df_labeled[\"label\"] != '']), len(files_df))\n",
    "print files_df_labeled[\"label\"][files_df_labeled[\"label\"] != ''].value_counts()\n",
    "print files_df_labeled.head(25)\n",
    "            "
   ]
  },
  {
   "cell_type": "code",
   "execution_count": null,
   "metadata": {
    "collapsed": false
   },
   "outputs": [],
   "source": [
    "print files_df_labeled.dtypes\n"
   ]
  },
  {
   "cell_type": "code",
   "execution_count": null,
   "metadata": {
    "collapsed": true
   },
   "outputs": [],
   "source": [
    "files_df_labeled.to_pickle(\"data/custom_files_labels_done.pkl\")"
   ]
  },
  {
   "cell_type": "code",
   "execution_count": null,
   "metadata": {
    "collapsed": true
   },
   "outputs": [],
   "source": []
  }
 ],
 "metadata": {
  "kernelspec": {
   "display_name": "Python 2",
   "language": "python",
   "name": "python2"
  },
  "language_info": {
   "codemirror_mode": {
    "name": "ipython",
    "version": 2
   },
   "file_extension": ".py",
   "mimetype": "text/x-python",
   "name": "python",
   "nbconvert_exporter": "python",
   "pygments_lexer": "ipython2",
   "version": "2.7.6"
  }
 },
 "nbformat": 4,
 "nbformat_minor": 0
}
