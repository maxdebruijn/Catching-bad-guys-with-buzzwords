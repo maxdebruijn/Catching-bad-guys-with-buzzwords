{
 "cells": [
  {
   "cell_type": "markdown",
   "metadata": {},
   "source": [
    "To do meaningful detection on the dataset we need to personalize the classifier.\n",
    "This process require proper knowledge about the data available.\n",
    "\n",
    "We will start by importing the available bro logs into pandas to perform some statistical analysis and filter out some noise."
   ]
  },
  {
   "cell_type": "markdown",
   "metadata": {},
   "source": [
    "Import the required dependencies"
   ]
  },
  {
   "cell_type": "code",
   "execution_count": null,
   "metadata": {
    "collapsed": false
   },
   "outputs": [],
   "source": [
    "%matplotlib inline\n",
    "\n",
    "import pandas as pd\n",
    "import matplotlib.pyplot as plt"
   ]
  },
  {
   "cell_type": "markdown",
   "metadata": {},
   "source": [
    "Import the bro logs and verify if it contains data.\n",
    "The bro logs imported are the output of bro-cut with the -d and -u flag to format the time.\n",
    "If the format of the bro logs is changed this code has to be altered."
   ]
  },
  {
   "cell_type": "code",
   "execution_count": null,
   "metadata": {
    "collapsed": false,
    "scrolled": true
   },
   "outputs": [],
   "source": [
    "bro_logs = pd.read_csv(\"data/smb_files_utc_formatted.csv\", sep=\"\\t\", na_values=\"-\", parse_dates=[0, 11, 12, 13, 14])\n",
    "bro_logs.columns = [\"ts\", \"uid\", \"id.orig_h\", \"id.orig_p\", \"id.resp_h\", \"id.resp_p\", \"fuid\", \"action\", \"path\", \"name\", \"size\", \"times.modified\", \"times.accessed\", \"times.created\", \"times.changed\"]\n",
    "bro_logs.fillna(0, inplace=True)\n",
    "print(bro_logs.shape)"
   ]
  },
  {
   "cell_type": "markdown",
   "metadata": {},
   "source": [
    "Do some statistics on the data.\n",
    "The top 10 list shows some outliers that will generate noise in the classification algorithm"
   ]
  },
  {
   "cell_type": "code",
   "execution_count": null,
   "metadata": {
    "collapsed": false,
    "scrolled": true
   },
   "outputs": [],
   "source": [
    "N = 10\n",
    "files_and_folders_seen = bro_logs[\"name\"].nunique()\n",
    "files_and_folders_read = bro_logs[\"name\"][bro_logs[\"action\"] == \"SMB::FILE_READ\"].nunique()\n",
    "top_n_files_read = bro_logs[\"name\"][bro_logs[\"action\"] == \"SMB::FILE_READ\"].value_counts(sort=True).head(N)\n",
    "\n",
    "print(\"Dataset contains {} unique files and folders\").format(files_and_folders_seen)\n",
    "print(\"Dataset contains {} unique files and folders which were read\").format(files_and_folders_read)\n",
    "print(\"{} most read files in the dataset:\\n{}\").format(N, top_n_files_read)"
   ]
  },
  {
   "cell_type": "markdown",
   "metadata": {
    "collapsed": true
   },
   "source": [
    "Now plot some basic graphs that show some information about the network."
   ]
  },
  {
   "cell_type": "code",
   "execution_count": null,
   "metadata": {
    "collapsed": false,
    "scrolled": true
   },
   "outputs": [],
   "source": [
    "plt.figure()\n",
    "fig, ax = plt.subplots()\n",
    "fig.suptitle(\"Activity over time\")\n",
    "\n",
    "bro_logs[\"ts\"][bro_logs[\"action\"] == \"SMB::FILE_READ\"].groupby(pd.TimeGrouper('D')).plot(ax=ax, color='#267f8c', kind='bar', edgecolor='#267f8c')\n",
    "bro_logs[\"ts\"][bro_logs[\"action\"] == \"SMB::FILE_READ\"].value_counts(sort=False).plot(ax=ax, color='#267f8c', kind='bar', edgecolor='#267f8c')\n",
    "\n",
    "fig.savefig('output/activity_over_time_before_cleaning.png', dpi=1000)\n",
    "plt.show()"
   ]
  },
  {
   "cell_type": "code",
   "execution_count": null,
   "metadata": {
    "collapsed": false,
    "scrolled": true
   },
   "outputs": [],
   "source": [
    "plt.figure()\n",
    "fig, ax = plt.subplots()\n",
    "fig.suptitle(\"Files opened\")\n",
    "ax = bro_logs[\"name\"][bro_logs[\"action\"] == \"SMB::FILE_READ\"].value_counts(sort=False).plot(color='#267f8c', kind='bar', edgecolor='#267f8c')\n",
    "ax.xaxis.set_visible(False)\n",
    "fig.savefig('output/files_opened_before_cleaning.png', dpi=1000)\n",
    "plt.show()"
   ]
  },
  {
   "cell_type": "code",
   "execution_count": null,
   "metadata": {
    "collapsed": false
   },
   "outputs": [],
   "source": [
    "print(bro_logs[\"name\"][bro_logs[\"action\"] == \"SMB::FILE_READ\"].value_counts().head(25))"
   ]
  },
  {
   "cell_type": "markdown",
   "metadata": {},
   "source": [
    "We can see that some of the most accessed files are not interresting to monitor.\n",
    "Having these files in the dataset will mess up the prediction in the future.\n",
    "\n",
    "To have a better view at the data we will filter out some files.\n",
    "\n",
    "NOTE: The files in the ignore_list have to be changed according to the data provided in the dataset."
   ]
  },
  {
   "cell_type": "code",
   "execution_count": null,
   "metadata": {
    "collapsed": false,
    "scrolled": true
   },
   "outputs": [],
   "source": [
    "import re\n",
    "\n",
    "ignore_list = [\"Example\", \"Files\", \"That\", \"Have\", \"To\", \"Be\", \"Filtered\"]\n",
    "ignore_regex = '|'.join(ignore_list)\n",
    "\n",
    "bro_logs_filtered = bro_logs[~bro_logs[\"name\"].str.contains(ignore_regex, flags=re.IGNORECASE)]\n",
    "\n",
    "print(bro_logs_filtered[\"name\"][bro_logs_filtered[\"action\"] == \"SMB::FILE_READ\"].value_counts().head(10))\n",
    "print (bro_logs_filtered[\"name\"][bro_logs_filtered[\"action\"] == \"SMB::FILE_READ\"].shape)\n",
    "print(bro_logs_filtered[\"name\"][bro_logs_filtered[\"action\"] == \"SMB::FILE_READ\"].nunique())"
   ]
  },
  {
   "cell_type": "markdown",
   "metadata": {},
   "source": [
    "Let's make the graphs again to see if we can confirm the data has no significant outliers"
   ]
  },
  {
   "cell_type": "code",
   "execution_count": null,
   "metadata": {
    "collapsed": false
   },
   "outputs": [],
   "source": [
    "plt.figure()\n",
    "fig, ax = plt.subplots()\n",
    "fig.suptitle(\"Activity over time\")\n",
    "\n",
    "ax = bro_logs_filtered[\"ts\"][bro_logs_filtered[\"action\"] == \"SMB::FILE_READ\"].value_counts(sort=False).plot(color='#267f8c', kind='bar', edgecolor='#267f8c')\n",
    "\n",
    "fig.savefig('output/activity_over_time_after_cleaning.png', dpi=1000)\n",
    "plt.show()\n",
    "\n",
    "plt.figure()\n",
    "fig, ax = plt.subplots()\n",
    "fig.suptitle(\"Files opened\")\n",
    "ax = bro_logs_filtered[\"name\"][bro_logs_filtered[\"action\"] == \"SMB::FILE_READ\"].value_counts(sort=False).plot(color='#267f8c', kind='bar', edgecolor='#267f8c')\n",
    "ax.xaxis.set_visible(False)\n",
    "fig.savefig('output/files_opened_after_cleaning.png', dpi=1000)\n",
    "plt.show()"
   ]
  },
  {
   "cell_type": "markdown",
   "metadata": {},
   "source": [
    "Now that we have a normalized dataset we will save it for further processing."
   ]
  },
  {
   "cell_type": "code",
   "execution_count": null,
   "metadata": {
    "collapsed": true
   },
   "outputs": [],
   "source": [
    "bro_logs_filtered.to_pickle(\"data/bro_logs_filtered.pkl\")"
   ]
  },
  {
   "cell_type": "code",
   "execution_count": null,
   "metadata": {
    "collapsed": true
   },
   "outputs": [],
   "source": []
  }
 ],
 "metadata": {
  "kernelspec": {
   "display_name": "Python 2",
   "language": "python",
   "name": "python2"
  },
  "language_info": {
   "codemirror_mode": {
    "name": "ipython",
    "version": 2
   },
   "file_extension": ".py",
   "mimetype": "text/x-python",
   "name": "python",
   "nbconvert_exporter": "python",
   "pygments_lexer": "ipython2",
   "version": "2.7.6"
  }
 },
 "nbformat": 4,
 "nbformat_minor": 0
}
