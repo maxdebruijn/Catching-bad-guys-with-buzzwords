{
 "cells": [
  {
   "cell_type": "code",
   "execution_count": 23,
   "metadata": {
    "collapsed": true
   },
   "outputs": [],
   "source": [
    "import csv"
   ]
  },
  {
   "cell_type": "code",
   "execution_count": 11,
   "metadata": {
    "collapsed": false
   },
   "outputs": [],
   "source": [
    "CLASSIFICATIONS = [\"Public\", \"Customer info\", \"Employee info\", \"Internal\"]\n",
    "EMPLOYEES = [\"Employee 1\", \"Employee 2\", \"Employee 3\", \"Employee 4\", \"Employee 5\", \"Employee 6\", \"Employee 7\", \"Employee 8\"]\n",
    "EMPLOYEE_DEFAULT = [\"Public\", \"Customer info\", \"Employee info\", \"Internal\", \"Public\", \"Customer info\", \"Employee info\", \"Internal\"]"
   ]
  },
  {
   "cell_type": "code",
   "execution_count": 17,
   "metadata": {
    "collapsed": false
   },
   "outputs": [],
   "source": [
    "def get_normal_pattern(n_times=50):\n",
    "    pattern = []\n",
    "    for _ in range(n_times):\n",
    "        for i in range(len(EMPLOYEES)):\n",
    "            pattern.append([EMPLOYEES[i], EMPLOYEE_DEFAULT[i]])\n",
    "    return pattern"
   ]
  },
  {
   "cell_type": "code",
   "execution_count": 18,
   "metadata": {
    "collapsed": true
   },
   "outputs": [],
   "source": [
    "def force_employee(employee_name, classification, n_times):\n",
    "    pattern = []\n",
    "    for _ in range(n_times):\n",
    "        pattern.append([employee_name, classification])\n",
    "    return pattern"
   ]
  },
  {
   "cell_type": "code",
   "execution_count": 33,
   "metadata": {
    "collapsed": false
   },
   "outputs": [],
   "source": [
    "total_pattern = []\n",
    "for item in get_normal_pattern():\n",
    "    total_pattern.append(item)\n",
    "for item in get_normal_pattern():\n",
    "    total_pattern.append(item)"
   ]
  },
  {
   "cell_type": "code",
   "execution_count": 34,
   "metadata": {
    "collapsed": false
   },
   "outputs": [],
   "source": [
    "with open('normal_pattern.csv', 'wb') as myfile:\n",
    "    wr = csv.writer(myfile)\n",
    "    for item in total_pattern:\n",
    "        wr.writerow(item)"
   ]
  },
  {
   "cell_type": "code",
   "execution_count": null,
   "metadata": {
    "collapsed": true
   },
   "outputs": [],
   "source": []
  }
 ],
 "metadata": {
  "kernelspec": {
   "display_name": "Python 2",
   "language": "python",
   "name": "python2"
  },
  "language_info": {
   "codemirror_mode": {
    "name": "ipython",
    "version": 2
   },
   "file_extension": ".py",
   "mimetype": "text/x-python",
   "name": "python",
   "nbconvert_exporter": "python",
   "pygments_lexer": "ipython2",
   "version": "2.7.6"
  }
 },
 "nbformat": 4,
 "nbformat_minor": 0
}
